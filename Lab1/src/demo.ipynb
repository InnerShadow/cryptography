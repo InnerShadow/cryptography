{
 "cells": [
  {
   "cell_type": "code",
   "execution_count": 1,
   "metadata": {},
   "outputs": [],
   "source": [
    "from CryptoSystems.CryptoWrapper import CryptoWrapper"
   ]
  },
  {
   "cell_type": "code",
   "execution_count": 2,
   "metadata": {},
   "outputs": [
    {
     "name": "stdout",
     "output_type": "stream",
     "text": [
      "{'У', 'Й', 'З', 'Д', 'П', 'О', 'А', 'Х', 'Т', 'Ь', 'Щ', 'С', 'Б', 'Ю', 'Ы', 'Э', 'Ц', 'Ё', 'Я', 'Ч', 'Ф', 'М', 'В', 'И', 'Л', 'Ш', 'Е', 'Г', 'К', 'Р', 'Ъ', 'Ж', 'Н'}\n",
      "{'У', 'Й', 'З', 'Д', 'П', 'О', 'А', 'Х', 'Т', 'Ь', 'Щ', 'С', 'Б', 'Ю', 'Ы', 'Э', 'Ё', 'Ц', 'Я', 'Ч', 'Ф', 'М', 'В', 'И', 'Л', 'Ш', 'Е', 'Г', 'К', 'Р', 'Ъ', 'Ж', 'Н'}\n",
      "{'А': 'З', 'Б': 'С', 'В': 'Т', 'Г': 'У', 'Д': 'Ф', 'Е': 'Х', 'Ё': 'Ц', 'Ж': 'П', 'З': 'М', 'И': 'Н', 'Й': 'О', 'К': 'Ъ', 'Л': 'Ю', 'М': 'Я', 'Н': 'А', 'О': 'Б', 'П': 'Е', 'Р': 'Р', 'С': 'Ч', 'Т': 'Ш', 'У': 'Щ', 'Ф': 'Ё', 'Х': 'Ж', 'Ц': 'Ы', 'Ч': 'И', 'Ш': 'Й', 'Щ': 'В', 'Ъ': 'Г', 'Ы': 'Д', 'Ь': 'К', 'Э': 'Л', 'Ю': 'Ь', 'Я': 'Э'}\n"
     ]
    },
    {
     "data": {
      "text/plain": [
       "'ЗСТУФ'"
      ]
     },
     "execution_count": 2,
     "metadata": {},
     "output_type": "execute_result"
    }
   ],
   "source": [
    "crypto = CryptoWrapper(method = 'Replace',\n",
    "                alphabet_path = './Data/alphabet.txt', \n",
    "                input_path = './Data/in.txt', \n",
    "                key_path = './Data/key_Replace.txt', \n",
    "                do_encrypt = 'enc')\n",
    "\n",
    "crypto.encrypt()\n"
   ]
  },
  {
   "cell_type": "code",
   "execution_count": 4,
   "metadata": {},
   "outputs": [
    {
     "name": "stdout",
     "output_type": "stream",
     "text": [
      "{'У', 'Й', 'З', 'Д', 'П', 'О', 'А', 'Х', 'Т', 'Ь', 'Щ', 'С', 'Б', 'Ю', 'Ы', 'Э', 'Ц', 'Ё', 'Я', 'Ч', 'Ф', 'М', 'В', 'И', 'Л', 'Ш', 'Е', 'Г', 'К', 'Р', 'Ъ', 'Ж', 'Н'}\n",
      "{'У', 'Й', 'З', 'Д', 'П', 'О', 'А', 'Х', 'Т', 'Ь', 'Щ', 'С', 'Б', 'Ю', 'Ы', 'Э', 'Ё', 'Ц', 'Я', 'Ч', 'Ф', 'М', 'В', 'И', 'Л', 'Ш', 'Е', 'Г', 'К', 'Р', 'Ъ', 'Ж', 'Н'}\n",
      "{'А': 'З', 'Б': 'С', 'В': 'Т', 'Г': 'У', 'Д': 'Ф', 'Е': 'Х', 'Ё': 'Ц', 'Ж': 'П', 'З': 'М', 'И': 'Н', 'Й': 'О', 'К': 'Ъ', 'Л': 'Ю', 'М': 'Я', 'Н': 'А', 'О': 'Б', 'П': 'Е', 'Р': 'Р', 'С': 'Ч', 'Т': 'Ш', 'У': 'Щ', 'Ф': 'Ё', 'Х': 'Ж', 'Ц': 'Ы', 'Ч': 'И', 'Ш': 'Й', 'Щ': 'В', 'Ъ': 'Г', 'Ы': 'Д', 'Ь': 'К', 'Э': 'Л', 'Ю': 'Ь', 'Я': 'Э'}\n"
     ]
    },
    {
     "data": {
      "text/plain": [
       "'АБВГД'"
      ]
     },
     "execution_count": 4,
     "metadata": {},
     "output_type": "execute_result"
    }
   ],
   "source": [
    "crypto = CryptoWrapper(method = 'Replace',\n",
    "                       alphabet_path = './Data/alphabet.txt', \n",
    "                       input_path = './Data/crypt.txt', \n",
    "                       key_path = './Data/key_Replace.txt', \n",
    "                       do_encrypt = 'dec')\n",
    "\n",
    "crypto.encrypt()"
   ]
  }
 ],
 "metadata": {
  "kernelspec": {
   "display_name": "Python 3",
   "language": "python",
   "name": "python3"
  },
  "language_info": {
   "codemirror_mode": {
    "name": "ipython",
    "version": 3
   },
   "file_extension": ".py",
   "mimetype": "text/x-python",
   "name": "python",
   "nbconvert_exporter": "python",
   "pygments_lexer": "ipython3",
   "version": "3.10.12"
  }
 },
 "nbformat": 4,
 "nbformat_minor": 2
}
