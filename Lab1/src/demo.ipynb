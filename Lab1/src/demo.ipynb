{
 "cells": [
  {
   "cell_type": "code",
   "execution_count": 1,
   "metadata": {},
   "outputs": [],
   "source": [
    "from CryptoSystems.CryptoWrapper import CryptoWrapper"
   ]
  },
  {
   "cell_type": "code",
   "execution_count": 4,
   "metadata": {},
   "outputs": [
    {
     "data": {
      "text/plain": [
       "'ПРОНЗО'"
      ]
     },
     "execution_count": 4,
     "metadata": {},
     "output_type": "execute_result"
    }
   ],
   "source": [
    "crypto = CryptoWrapper(method = 'Replace',\n",
    "                alphabet_path = './Data/alphabet.txt', \n",
    "                input_path = './Data/in.txt', \n",
    "                key_path = './Data/key_Replace.txt', \n",
    "                do_encrypt = 'enc')\n",
    "\n",
    "crypto.encrypt()\n"
   ]
  },
  {
   "cell_type": "code",
   "execution_count": 5,
   "metadata": {},
   "outputs": [
    {
     "data": {
      "text/plain": [
       "'АВБГДБ'"
      ]
     },
     "execution_count": 5,
     "metadata": {},
     "output_type": "execute_result"
    }
   ],
   "source": [
    "crypto = CryptoWrapper(method = 'Replace',\n",
    "                       alphabet_path = './Data/alphabet.txt', \n",
    "                       input_path = './Data/crypt.txt', \n",
    "                       key_path = './Data/key_Replace.txt', \n",
    "                       do_encrypt = 'dec')\n",
    "\n",
    "crypto.encrypt()"
   ]
  }
 ],
 "metadata": {
  "kernelspec": {
   "display_name": "Python 3",
   "language": "python",
   "name": "python3"
  },
  "language_info": {
   "codemirror_mode": {
    "name": "ipython",
    "version": 3
   },
   "file_extension": ".py",
   "mimetype": "text/x-python",
   "name": "python",
   "nbconvert_exporter": "python",
   "pygments_lexer": "ipython3",
   "version": "3.10.12"
  }
 },
 "nbformat": 4,
 "nbformat_minor": 2
}
