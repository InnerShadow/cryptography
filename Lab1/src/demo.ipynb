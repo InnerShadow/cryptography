{
 "cells": [
  {
   "cell_type": "code",
   "execution_count": 5,
   "metadata": {},
   "outputs": [],
   "source": [
    "from CryptoSystems.CryptoWrapper import CryptoWrapper"
   ]
  },
  {
   "cell_type": "code",
   "execution_count": 6,
   "metadata": {},
   "outputs": [
    {
     "data": {
      "text/plain": [
       "'СЯУЫУ ЛШК ЗВ СОЬ ЯОТХДВИЛ  ОАСВЧДР ЕТОЙ МЫРУС Д КМВЛИЕИ М  ЁСУН ЖКПИЧА ОУЕЕ ТМЖ ПЫТРВ ОИЮ ЙД ЛЕ РИУА  ЗМОТТЙМВ Ь ОЛОТЙПЕ ЁН СН ЕЕИН  ТМЕЛТИОСЕ  ДЕЯЕСР  МЪС УЕ  БЛЙККЫО ДО УРЛНПАИЛЗ КА ВСИАИХТОВ ТЕНД ЕОИТХИ ОН КУТ АРПН ЛЕ ВСИЕВ ГР ОМОАЫР МНЙЛЗ   А'"
      ]
     },
     "execution_count": 6,
     "metadata": {},
     "output_type": "execute_result"
    }
   ],
   "source": [
    "crypto = CryptoWrapper(method = 'Permutation',\n",
    "                alphabet_path = './Data/alphabet.txt', \n",
    "                input_path = './Data/in.txt', \n",
    "                key_path = './Data/key_Permutation.txt', \n",
    "                do_encrypt = 'enc')\n",
    "\n",
    "crypto.encrypt()"
   ]
  },
  {
   "cell_type": "code",
   "execution_count": 7,
   "metadata": {},
   "outputs": [
    {
     "data": {
      "text/plain": [
       "'Я СЫЛУШУ СКВОЗЬ ЯД ТВОИХ СЛОВ ЧАРОДЕЙ  ТЫ МУДР СМЕКЛИВ И УМЁН  СКАЖИ ПОЧЕМУ ЖЕ ТЫ ПРОТИВ ЛЮДЕЙ  И РАЗУМ ТВОЙ ТЬМОЙ ОПЛЕТЁН   НЕСИТЕ МНЕ ТЕЛО И СЕРДЕ Я СЪЕМ  С УЛЫБКОЙ КОЛДУН ПРИКАЗАЛ  СХВАТИОИ ДВЕ ТЕНИ ОХОТНИКА ТРУП  ВНЕСЛИ В ЕГО МРАМОРНЫЙ ЗАЛ'"
      ]
     },
     "execution_count": 7,
     "metadata": {},
     "output_type": "execute_result"
    }
   ],
   "source": [
    "crypto = CryptoWrapper(method = 'Permutation',\n",
    "                       alphabet_path = './Data/alphabet.txt', \n",
    "                       input_path = './Data/crypt.txt', \n",
    "                       key_path = './Data/key_Permutation.txt', \n",
    "                       do_encrypt = 'dec')\n",
    "\n",
    "crypto.encrypt()"
   ]
  },
  {
   "cell_type": "code",
   "execution_count": 8,
   "metadata": {},
   "outputs": [
    {
     "name": "stdout",
     "output_type": "stream",
     "text": [
      "......\n",
      "----------------------------------------------------------------------\n",
      "Ran 6 tests in 0.055s\n",
      "\n",
      "OK\n"
     ]
    }
   ],
   "source": [
    "!python3 -m unittest Test/tests.py"
   ]
  }
 ],
 "metadata": {
  "kernelspec": {
   "display_name": "Python 3",
   "language": "python",
   "name": "python3"
  },
  "language_info": {
   "codemirror_mode": {
    "name": "ipython",
    "version": 3
   },
   "file_extension": ".py",
   "mimetype": "text/x-python",
   "name": "python",
   "nbconvert_exporter": "python",
   "pygments_lexer": "ipython3",
   "version": "3.10.12"
  }
 },
 "nbformat": 4,
 "nbformat_minor": 2
}
