{
 "cells": [
  {
   "cell_type": "code",
   "execution_count": 7,
   "metadata": {},
   "outputs": [],
   "source": [
    "from CryptoSystems.CryptoWrapper import CryptoWrapper"
   ]
  },
  {
   "cell_type": "code",
   "execution_count": 8,
   "metadata": {},
   "outputs": [
    {
     "data": {
      "text/plain": [
       "'Л ЩОФДЕНОЫДЙМКТЯЦКТААР ИЪ ЪЪЬДЧУЪ ОАЬ ЯЭЧ БЪНН'"
      ]
     },
     "execution_count": 8,
     "metadata": {},
     "output_type": "execute_result"
    }
   ],
   "source": [
    "crypto = CryptoWrapper(method = 'Permutation',\n",
    "                alphabet_path = './Data/alphabet.txt', \n",
    "                input_path = './Data/in.txt', \n",
    "                key_path = './Data/key_Permutation.txt', \n",
    "                do_encrypt = 'enc')\n",
    "\n",
    "crypto.encrypt()\n"
   ]
  },
  {
   "cell_type": "code",
   "execution_count": 9,
   "metadata": {},
   "outputs": [
    {
     "data": {
      "text/plain": [
       "'Я ЖАЖДУ БЫТЬ КАРИКАТУРНЫМ ЗЛОДЕЕМ ЭТО МОЙ ПЛАН'"
      ]
     },
     "execution_count": 9,
     "metadata": {},
     "output_type": "execute_result"
    }
   ],
   "source": [
    "crypto = CryptoWrapper(method = 'Permutation',\n",
    "                       alphabet_path = './Data/alphabet.txt', \n",
    "                       input_path = './Data/crypt.txt', \n",
    "                       key_path = './Data/key_Permutation.txt', \n",
    "                       do_encrypt = 'dec')\n",
    "\n",
    "crypto.encrypt()"
   ]
  },
  {
   "cell_type": "code",
   "execution_count": 11,
   "metadata": {},
   "outputs": [
    {
     "name": "stdout",
     "output_type": "stream",
     "text": [
      ".....\n",
      "----------------------------------------------------------------------\n",
      "Ran 5 tests in 0.012s\n",
      "\n",
      "OK\n"
     ]
    }
   ],
   "source": [
    "!python3 -m unittest Test/tests.py"
   ]
  }
 ],
 "metadata": {
  "kernelspec": {
   "display_name": "Python 3",
   "language": "python",
   "name": "python3"
  },
  "language_info": {
   "codemirror_mode": {
    "name": "ipython",
    "version": 3
   },
   "file_extension": ".py",
   "mimetype": "text/x-python",
   "name": "python",
   "nbconvert_exporter": "python",
   "pygments_lexer": "ipython3",
   "version": "3.10.12"
  }
 },
 "nbformat": 4,
 "nbformat_minor": 2
}
