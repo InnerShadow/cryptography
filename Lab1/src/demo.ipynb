{
 "cells": [
  {
   "cell_type": "code",
   "execution_count": 1,
   "metadata": {},
   "outputs": [],
   "source": [
    "from CryptoSystems.CryptoWrapper import CryptoWrapper"
   ]
  },
  {
   "cell_type": "code",
   "execution_count": 2,
   "metadata": {},
   "outputs": [
    {
     "data": {
      "text/plain": [
       "'ЕНИСЕТМ ЕНТ ЛЕ О ИЕСДРЕЦЯ С ЕЪ М   СЛУБЫОК ЙОКДЛНУП ИРАКАЗ Л  ХСАВИТИЛД ЕВТ НЕ ИХОТОИНАКТ УР П  НВСЕИЛЕ ОГВ М АРОМНРЙЫЗ ЛА  '"
      ]
     },
     "execution_count": 2,
     "metadata": {},
     "output_type": "execute_result"
    }
   ],
   "source": [
    "crypto = CryptoWrapper(method = 'Permutation',\n",
    "                alphabet_path = './Data/alphabet.txt', \n",
    "                input_path = './Data/in.txt', \n",
    "                key_path = './Data/key_Permutation.txt', \n",
    "                do_encrypt = 'enc')\n",
    "\n",
    "crypto.encrypt()"
   ]
  },
  {
   "cell_type": "code",
   "execution_count": 3,
   "metadata": {},
   "outputs": [
    {
     "data": {
      "text/plain": [
       "'НЕСИТЕ МНЕ ТЕЛО И СЕРДЦЕ Я СЪЕМ   С УЛЫБКОЙ КОЛДУН ПРИКАЗАЛ   СХВАТИЛИ ДВЕ ТЕНИ ОХОТНИКА ТРУП   ВНЕСЛИ ЕГО В МРАМОРНЫЙ ЗАЛ  '"
      ]
     },
     "execution_count": 3,
     "metadata": {},
     "output_type": "execute_result"
    }
   ],
   "source": [
    "crypto = CryptoWrapper(method = 'Permutation',\n",
    "                       alphabet_path = './Data/alphabet.txt', \n",
    "                       input_path = './Data/crypt.txt', \n",
    "                       key_path = './Data/key_Permutation.txt', \n",
    "                       do_encrypt = 'dec')\n",
    "\n",
    "crypto.encrypt()"
   ]
  },
  {
   "cell_type": "code",
   "execution_count": 4,
   "metadata": {},
   "outputs": [
    {
     "name": "stdout",
     "output_type": "stream",
     "text": [
      "...F..\n",
      "======================================================================\n",
      "FAIL: test_Permutation (Test.tests.CryptoTest)\n",
      "----------------------------------------------------------------------\n",
      "Traceback (most recent call last):\n",
      "  File \"/home/masikol/main/cryptography/Lab1/src/Test/tests.py\", line 94, in test_Permutation\n",
      "    self.assertEqual(decript_data, encript_data)\n",
      "AssertionError: 'НЕСИ[58 chars]СХВАТИЛИ ДВЕ ТЕНИ ОХОТНИКА ТРУП   ВНЕСЛИ ЕГО В МРАМОРНЫЙ ЗАЛ' != 'НЕСИ[58 chars]СХВАТИЛИ ДВЕ ТЕНИ ОХОТНИКА ТРУП   ВНЕСЛИ ЕГО В МРАМОРНЫЙ ЗАЛ  '\n",
      "- НЕСИТЕ МНЕ ТЕЛО И СЕРДЦЕ Я СЪЕМ   С УЛЫБКОЙ КОЛДУН ПРИКАЗАЛ   СХВАТИЛИ ДВЕ ТЕНИ ОХОТНИКА ТРУП   ВНЕСЛИ ЕГО В МРАМОРНЫЙ ЗАЛ\n",
      "+ НЕСИТЕ МНЕ ТЕЛО И СЕРДЦЕ Я СЪЕМ   С УЛЫБКОЙ КОЛДУН ПРИКАЗАЛ   СХВАТИЛИ ДВЕ ТЕНИ ОХОТНИКА ТРУП   ВНЕСЛИ ЕГО В МРАМОРНЫЙ ЗАЛ  \n",
      "?                                                                                                                           ++\n",
      "\n",
      "\n",
      "----------------------------------------------------------------------\n",
      "Ran 6 tests in 0.079s\n",
      "\n",
      "FAILED (failures=1)\n"
     ]
    }
   ],
   "source": [
    "!python3 -m unittest Test/tests.py"
   ]
  }
 ],
 "metadata": {
  "kernelspec": {
   "display_name": "Python 3",
   "language": "python",
   "name": "python3"
  },
  "language_info": {
   "codemirror_mode": {
    "name": "ipython",
    "version": 3
   },
   "file_extension": ".py",
   "mimetype": "text/x-python",
   "name": "python",
   "nbconvert_exporter": "python",
   "pygments_lexer": "ipython3",
   "version": "3.10.12"
  }
 },
 "nbformat": 4,
 "nbformat_minor": 2
}
