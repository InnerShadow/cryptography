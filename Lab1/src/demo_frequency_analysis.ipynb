{
 "cells": [
  {
   "cell_type": "code",
   "execution_count": 38,
   "metadata": {},
   "outputs": [
    {
     "data": {
      "text/plain": [
       "2120796"
      ]
     },
     "execution_count": 38,
     "metadata": {},
     "output_type": "execute_result"
    }
   ],
   "source": [
    "import json\n",
    "from collections import Counter\n",
    "\n",
    "from CryptoSystems.CryptoWrapper import CryptoWrapper\n",
    "\n",
    "with open('./Data/alphabet', 'r') as f:\n",
    "    alphabet = f.readline()\n",
    "# end with\n",
    "\n",
    "with open('./Data/fit_text', 'r') as f:\n",
    "    text = f.readlines()\n",
    "# end with\n",
    "\n",
    "text = ''.join(i for i in text)\n",
    "text = text.upper()\n",
    "text.replace('\\n', ' ')\n",
    "text = ''.join(i for i in text if i in alphabet)\n",
    "\n",
    "with open('./Data/fit_text', 'w') as f:\n",
    "    f.write(text)\n",
    "# end with \n",
    "\n",
    "len(text)"
   ]
  },
  {
   "cell_type": "code",
   "execution_count": 39,
   "metadata": {},
   "outputs": [],
   "source": [
    "freq = {i : 0 for i in alphabet}\n",
    "for i in text:\n",
    "    freq[i] += 1\n",
    "# end for\n",
    "\n",
    "for key in freq:\n",
    "    freq[key] /=  len(text)\n",
    "# end for\n",
    "\n",
    "freq = dict(sorted(freq.items(), key = lambda item : item[1], reverse = True))\n",
    "\n",
    "with open('./Data/tolkin_freq.json', 'w') as json_file:\n",
    "    json.dump(freq, json_file, indent = 4)\n",
    "# end with "
   ]
  },
  {
   "cell_type": "code",
   "execution_count": 40,
   "metadata": {},
   "outputs": [],
   "source": [
    "def frequency_analysis(ciphertext : str) -> dict:\n",
    "    freq = Counter(ciphertext)\n",
    "    total_chars = len(ciphertext)\n",
    "    for char in freq:\n",
    "        freq[char] /= total_chars\n",
    "    # end for\n",
    "    return dict(freq)\n",
    "# end def\n",
    "\n",
    "def decrypt_simple_substitution(ciphertext : str, frequences : dict) -> tuple[str, str]:\n",
    "    freq = frequency_analysis(ciphertext)\n",
    "    freq = dict(sorted(freq.items(), key = lambda item : item[1], reverse = True))\n",
    "    \n",
    "    ciphertext_chars = [char for char in freq.keys()]\n",
    "\n",
    "    key_mapping = {}\n",
    "    for i, char in enumerate(ciphertext_chars):\n",
    "        key_mapping[char] = list(frequences.keys())[i]\n",
    "    # end for\n",
    "    \n",
    "    plaintext = ''.join(key_mapping[char] for char in ciphertext)\n",
    "    \n",
    "    return plaintext, key_mapping\n",
    "# end def"
   ]
  },
  {
   "cell_type": "code",
   "execution_count": 41,
   "metadata": {},
   "outputs": [],
   "source": [
    "def calculate_metrics(plaintext: str, \n",
    "                      original_text: str) -> tuple[float, float, float]:\n",
    "    correct_chars = sum(1 for i in range(len(plaintext)) if plaintext[i] == original_text[i])\n",
    "    metric = correct_chars / len(plaintext)\n",
    "\n",
    "    return metric\n",
    "# end def"
   ]
  },
  {
   "cell_type": "code",
   "execution_count": 42,
   "metadata": {},
   "outputs": [],
   "source": [
    "def test_system(input_path : str, \n",
    "                freq_file : str, \n",
    "                save : bool = False\n",
    "                ) -> tuple[float, str, str]:\n",
    "    \n",
    "    crypter = CryptoWrapper(method = 'Replace', \n",
    "                        do_encrypt = 'enc',\n",
    "                        key_path = './Data/key_Replace',\n",
    "                        input_path = input_path\n",
    "                        )\n",
    "\n",
    "    crypteed_text = crypter.encrypt()\n",
    "\n",
    "    with open(freq_file, 'r') as json_file:\n",
    "        freq = json.load(json_file)\n",
    "    # end with\n",
    "\n",
    "    plaintext, key_mapping = decrypt_simple_substitution(ciphertext = crypteed_text,\n",
    "                                                         frequences = freq)\n",
    "    \n",
    "    if save:\n",
    "        with open('./Data/freq_dectipt', 'w') as f:\n",
    "            f.write(plaintext)\n",
    "        # end with\n",
    "        \n",
    "        with open('./Data/key_freq', 'w') as f:\n",
    "            f.write(''.join([key for key in key_mapping]))\n",
    "        # end with\n",
    "    # end if\n",
    "\n",
    "    with open(input_path, 'r') as f:\n",
    "        original_text = f.readline()\n",
    "    # end with\n",
    "\n",
    "    metric = calculate_metrics(plaintext = plaintext,\n",
    "                                original_text = original_text)\n",
    "\n",
    "    return metric, plaintext, key_mapping, len(original_text)\n",
    "# end def"
   ]
  },
  {
   "cell_type": "code",
   "execution_count": 43,
   "metadata": {},
   "outputs": [
    {
     "name": "stdout",
     "output_type": "stream",
     "text": [
      "accyracy=0.4900900900900901 for text=./Data/in, for json=./Data/custom_freq.json, len=1110\n",
      "accyracy=0.47927927927927927 for text=./Data/in, for json=./Data/tolkin_freq.json, len=1110\n",
      "\n",
      "accyracy=0.48778384593273927 for text=./Data/in_test_1, for json=./Data/custom_freq.json, len=3479\n",
      "accyracy=0.5903995400977292 for text=./Data/in_test_1, for json=./Data/tolkin_freq.json, len=3479\n",
      "\n",
      "accyracy=0.6259688739700946 for text=./Data/in_test_2, for json=./Data/custom_freq.json, len=32770\n",
      "accyracy=0.49496490692706746 for text=./Data/in_test_2, for json=./Data/tolkin_freq.json, len=32770\n",
      "\n",
      "accyracy=0.6586060139683402 for text=./Data/fit_text, for json=./Data/custom_freq.json, len=2120796\n",
      "accyracy=1.0 for text=./Data/fit_text, for json=./Data/tolkin_freq.json, len=2120796\n",
      "\n"
     ]
    }
   ],
   "source": [
    "texts_to_test = (\n",
    "    './Data/in',\n",
    "    './Data/in_test_1',\n",
    "    './Data/in_test_2',\n",
    "    './Data/fit_text'\n",
    ")\n",
    "\n",
    "freq_jsons = ('./Data/custom_freq.json', './Data/tolkin_freq.json')\n",
    "\n",
    "for i in texts_to_test:\n",
    "    for j in freq_jsons:\n",
    "        _ = test_system(i, j)\n",
    "        print(f'accyracy={_[0]} for text={i}, for json={j}, len={_[-1]}')\n",
    "    # end for\n",
    "    print()\n",
    "# end for"
   ]
  },
  {
   "cell_type": "code",
   "execution_count": 44,
   "metadata": {},
   "outputs": [],
   "source": [
    "_ = test_system(texts_to_test[-1], freq_jsons[0], save = True)"
   ]
  }
 ],
 "metadata": {
  "kernelspec": {
   "display_name": "Python 3",
   "language": "python",
   "name": "python3"
  },
  "language_info": {
   "codemirror_mode": {
    "name": "ipython",
    "version": 3
   },
   "file_extension": ".py",
   "mimetype": "text/x-python",
   "name": "python",
   "nbconvert_exporter": "python",
   "pygments_lexer": "ipython3",
   "version": "3.10.12"
  }
 },
 "nbformat": 4,
 "nbformat_minor": 2
}
